{
 "cells": [
  {
   "cell_type": "code",
   "execution_count": 2,
   "metadata": {},
   "outputs": [],
   "source": [
    "#key = '000102030405060708090a0b0c0d0e0f101112131415161718191a1b1c1d1e1f'"
   ]
  },
  {
   "cell_type": "code",
   "execution_count": 3,
   "metadata": {},
   "outputs": [],
   "source": [
    "import bitarray.util\n",
    "from bitarray import bitarray\n",
    "from bitarray.util import hex2ba, ba2hex, ba2int, int2ba\n",
    "\n",
    "# si no me equivoco, el estado es donde se va guardando el cifrado\n",
    "state = [[0 for x in range(4)] for y in range(4)]\n",
    "\n",
    "# ten cuidado por si deja el primero como 1000... en vez de 0100...\n",
    "Rcon = ['01000000', '02000000', '04000000', '08000000',\n",
    "        '10000000', '20000000', '40000000', '80000000',\n",
    "        '1B000000', '36000000', '6C000000', 'D8000000',\n",
    "        'AB000000', '4D000000']\n",
    "Rcon = [hex2ba(x) for x in Rcon]\n",
    "\n",
    "SboxTable = [['63','7c','77','7b','f2','6b','6f','c5','30','01','67','2b','fe','d7','ab','76'],\n",
    "            ['ca','82','c9','7d','fa','59','47','f0','ad','d4','a2','af','9c','a4','72','c0'],\n",
    "            ['b7','fd','93','26','36','3f','f7','cc','34','a5','e5','f1','71','d8','31','15'],\n",
    "            ['04','c7','23','c3','18','96','05','9a','07','12','80','e2','eb','27','b2','75'],\n",
    "            ['09','83','2c','1a','1b','6e','5a','a0','52','3b','d6','b3','29','e3','2f','84'],\n",
    "            ['53','d1','00','ed','20','fc','b1','5b','6a','cb','be','39','4a','4c','58','cf'],\n",
    "            ['d0','ef','aa','fb','43','4d','33','85','45','f9','02','7f','50','3c','9f','a8'],\n",
    "            ['51','a3','40','8f','92','9d','38','f5','bc','b6','da','21','10','ff','f3','d2'],\n",
    "            ['cd','0c','13','ec','5f','97','44','17','c4','a7','7e','3d','64','5d','19','73'],\n",
    "            ['60','81','4f','dc','22','2a','90','88','46','ee','b8','14','de','5e','0b','db'],\n",
    "            ['e0','32','3a','0a','49','06','24','5c','c2','d3','ac','62','91','95','e4','79'],\n",
    "            ['e7','c8','37','6d','8d','d5','4e','a9','6c','56','f4','ea','65','7a','ae','08'],\n",
    "            ['ba','78','25','2e','1c','a6','b4','c6','e8','dd','74','1f','4b','bd','8b','8a'],\n",
    "            ['70','3e','b5','66','48','03','f6','0e','61','35','57','b9','86','c1','1d','9e'],\n",
    "            ['e1','f8','98','11','69','d9','8e','94','9b','1e','87','e9','ce','55','28','df'],\n",
    "            ['8c','a1','89','0d','bf','e6','42','68','41','99','2d','0f','b0','54','bb','16']]\n",
    "\n",
    "#key = hex2ba(key) y su len = 256 en binario y 64 en hex\n",
    "\n",
    "# esta funcion se utiliza para juntar de 4 en 4 palabras como\n",
    "# unicas entradas de un array, es decir, si antes tenias 8 palabras, \n",
    "# ahora tienes dos posiciones de array, con 4 palabras cada una.\n",
    "\n",
    "def agrupar(L, k):\n",
    "    from functools import reduce\n",
    "    assert len(L) % k == 0\n",
    "    N = len(L) // k\n",
    "    G = [L[k*i:k*i+k] for i in range(N)]\n",
    "    ret = (reduce(lambda x, y: x + y, w) for w in G)\n",
    "    return(ret)\n",
    "\n",
    "\n",
    "# sbox coge un bitarray de 8 bits y le aplica tabla de sustitucion\n",
    "def sbox(b):\n",
    "    x = b[:4]\n",
    "    y = b[4:]\n",
    "    x = ba2int(x)\n",
    "    y = ba2int(y)\n",
    "\n",
    "    val = SboxTable[x][y]\n",
    "    val = hex2ba(val)\n",
    "    return (val)\n",
    "\n",
    "\n",
    "# Sbox coge la palabra de 32 digitos binarios que le proporciona el \n",
    "# hex2ba(word) del return de SubWord y le aplica sbox a cada trozo de 8 bits \n",
    "# de la palabra, devolviendo un bitarray de 32 bits que son los 4 trozos de 8 \n",
    "# pasados por sbox\n",
    "def Sbox(word):\n",
    "    B = bitarray() \n",
    "    for i in range(0,len(word),8):\n",
    "        b = word[i:i+8]\n",
    "        b = sbox(b)\n",
    "        B = B + b\n",
    "    \n",
    "    #print('afterSubWord: ',ba2hex(B))\n",
    "    return (B)\n",
    "\n",
    "# RotWord es coge los dos primeros caracteres y les pone al final de la palabra\n",
    "def RotWord(word): # word en hexadecimal\n",
    "    # rotamos los 4 ultimos caracteres de la palabra\n",
    "    return(word[8:]+word[:8])\n",
    "\n",
    "# SubWord is a function that takes a four-byte input word and applies\n",
    "# the S-box (Sec. 5.1.1,Fig. 7) to each of the four bytes to produce an output word\n",
    "def SubWord(word): # word entra en hexadecimal\n",
    "    #print('rotword: ',ba2hex(word))\n",
    "    return Sbox(word) # y retorna el bitarray que salga de Sbox\n",
    "\n",
    "# Nb = 4 Nk = 8 Nr = 14       Nb * (Nr + 1) = 60\n",
    "def KeyExpansion(key): # key en hexadecimal\n",
    "    key = hex2ba(key) # key en binario\n",
    "    w = []\n",
    "\n",
    "    # dividimos en palabras de 32 bits\n",
    "    w = [key[32*i:32*i+32] for i in range(8)]\n",
    "\n",
    "    i = 8 #Nk\n",
    "\n",
    "    # aqui w es una lista de 8 palabras de 32 bits cada una\n",
    "    # en cada iteracion se añade una nueva palabra al final de la lista w\n",
    "    while i<60: # Nb * (Nr + 1)\n",
    "        temp = w[i-1] # temp es un trozo de 8 caracteres\n",
    "        #print('-----------Nueva iteracion-----------')\n",
    "        #print('i: ',i,'temp: ', ba2hex(temp))\n",
    "        if i % 8 == 0:\n",
    "            temp = SubWord(RotWord(temp)) # a subWord le entran hexadecimales\n",
    "            #print('Rcon: ', ba2hex(Rcon[i//8 - 1]))\n",
    "            temp ^= Rcon[i//8 - 1]\n",
    "            #print('temp: ',ba2hex(temp))\n",
    "\n",
    "        elif i%8 == 4:\n",
    "            temp = SubWord(temp)\n",
    "\n",
    "        #print('w[i-8]: ',ba2hex(w[i-8]))\n",
    "        temp = w[i-8]^temp\n",
    "\n",
    "        #print('temp: ',ba2hex(temp))\n",
    "        w.append(temp)\n",
    "\n",
    "        i += 1\n",
    "\n",
    "    return(agrupar(w,4))\n",
    "    #w = ['8hex' 60 palabras]\n",
    "    #w = ['32hex' 15 claves]  #devolver lista (K) con 15 claves de 128 bits (32 hexadecimales)"
   ]
  },
  {
   "cell_type": "code",
   "execution_count": 4,
   "metadata": {},
   "outputs": [
    {
     "name": "stdout",
     "output_type": "stream",
     "text": [
      "[bitarray('00000000000000010000001000000011000001000000010100000110000001110000100000001001000010100000101100001100000011010000111000001111'), bitarray('00010000000100010001001000010011000101000001010100010110000101110001100000011001000110100001101100011100000111010001111000011111'), bitarray('10100101011100111100001010011111101000010111011011000100100110001010100101111111110011101001001110100101011100101100000010011100'), bitarray('00010110010100011010100011001101000000100100010010111110110110100001101001011101101001001100000100000110010000001011101011011110'), bitarray('10101110100001111101111111110000000011111111000100011011011010001010011010001110110101011111101100000011111111000001010101100111'), bitarray('01101101111000011111000101001000011011111010010101001111100100100111010111111000111010110101001101110011101110000101000110001101'), bitarray('11000110010101101000001001111111110010011010011110011001000101110110111100101001010011001110110001101100110101010101100110001011'), bitarray('00111101111000100011101001110101010100100100011101110101111001110010011110111111100111101011010001010100000001111100111100111001'), bitarray('00001011110111001001000001011111110000100111101100001001010010001010110101010010010001011010010011000001100001110001110000101111'), bitarray('01000101111101011010011001100000000101111011001011010011100001110011000000001101010011010011001101100100000010101000001000001010'), bitarray('01111100110011111111011100011100101111101011010011111110010101000001001111100110101110111111000011010010011000011010011111011111'), bitarray('11110000000110101111101011111110111001111010100000101001011110011101011110100101011001000100101010110011101011111110011001000000'), bitarray('00100101010000011111111001110001100110111111010100000000001001011000100000010011101110111101010101011010011100100001110000001010'), bitarray('01001110010110100110011010011001101010011111001001001111111000000111111001010111001010111010101011001101111110001100110111101010'), bitarray('00100100111111000111100111001100101111110000100101111001111010010011011100011010110000100011110001101101011010001101111000110110')]\n"
     ]
    }
   ],
   "source": [
    "KE = KeyExpansion('000102030405060708090a0b0c0d0e0f101112131415161718191a1b1c1d1e1f')\n",
    "\n",
    "#00112233445566778899aabbccddeeff\n",
    "\n",
    "#8ea2b7ca516745bfeafc49904b496089\n",
    "\n",
    "print(list(KE))"
   ]
  },
  {
   "cell_type": "code",
   "execution_count": 5,
   "metadata": {},
   "outputs": [],
   "source": [
    "keySchedule = KeyExpansion('603deb1015ca71be2b73aef0857d77811f352c073b6108d72d9810a30914dff4')\n"
   ]
  },
  {
   "cell_type": "code",
   "execution_count": 6,
   "metadata": {},
   "outputs": [],
   "source": [
    "keySchedule = list(keySchedule)"
   ]
  },
  {
   "cell_type": "code",
   "execution_count": 7,
   "metadata": {},
   "outputs": [
    {
     "data": {
      "text/plain": [
       "[bitarray('01100000001111011110101100010000000101011100101001110001101111100010101101110011101011101111000010000101011111010111011110000001'),\n",
       " bitarray('00011111001101010010110000000111001110110110000100001000110101110010110110011000000100001010001100001001000101001101111111110100'),\n",
       " bitarray('10011011101000110101010000010001100011100110100100100101101011111010010100011010100010110101111100100000011001111111110011011110'),\n",
       " bitarray('10101000101100001001110000011010100100111101000110010100110011011011111001001001100001000110111010110111010111010101101110011010'),\n",
       " bitarray('11010101100110101110110010111000010110111111001111001001000101111111111011101001010000100100100011011110100011101011111010010110'),\n",
       " bitarray('10110101101010010011001010001010001001100111100010100110010001111001100000110001001000100010100100101111011011000111100110110011'),\n",
       " bitarray('10000001001011001000000110101101110110101101111101001000101110100010010000110110000010101111001011111010101110001011010001100100'),\n",
       " bitarray('10011000110001011011111111001001101111101011110100011001100011100010011010001100001110111010011100001001111000000100001000010100'),\n",
       " bitarray('01101000000000000111101110101100101100101101111100110011000101101001011011101001001110011110010001101100010100011000110110000000'),\n",
       " bitarray('11001000000101001110001000000100011101101010100111111011100010100101000000100101110000000010110101011001110001011000001000111001'),\n",
       " bitarray('11011110000100110110100101100111011011001100110001011010011100011111101000100101011000111001010110010110011101001110111000010101'),\n",
       " bitarray('01011000100001101100101001011101001011100010111100110001110101110111111000001010111100011111101000100111110011110111001111000011'),\n",
       " bitarray('01110100100111000100011110101011000110000101000000011101110110101110001001110101011111100100111101110100000000011001000001011010'),\n",
       " bitarray('11001010111110101010101011100011111001001101010110011011001101001001101011011111011010101100111010111101000100000001100100001101'),\n",
       " bitarray('11111110010010001001000011010001111001100001100010001101000010110000010001101101111100110100010001110000011011000110001100011110')]"
      ]
     },
     "execution_count": 7,
     "metadata": {},
     "output_type": "execute_result"
    }
   ],
   "source": [
    "keySchedule"
   ]
  },
  {
   "cell_type": "code",
   "execution_count": 8,
   "metadata": {},
   "outputs": [
    {
     "data": {
      "text/plain": [
       "[bitarray('01100000001111011110101100010000'),\n",
       " bitarray('00010101110010100111000110111110'),\n",
       " bitarray('00101011011100111010111011110000'),\n",
       " bitarray('10000101011111010111011110000001')]"
      ]
     },
     "execution_count": 8,
     "metadata": {},
     "output_type": "execute_result"
    }
   ],
   "source": [
    "\n",
    "#state ya tendria que estar con el valor del mensaje\n",
    "\n",
    "keyScheduleYaPartido = []\n",
    "for palabra in keySchedule:\n",
    "    keySchedulePartes = []\n",
    "    aux = ba2hex(palabra)\n",
    "    for i in range(0, 4):\n",
    "        aux2 = aux[8*i:8*i+8]\n",
    "        keySchedulePartes.append(hex2ba(aux2))\n",
    "    keyScheduleYaPartido.append(keySchedulePartes)\n",
    "\n",
    "keyScheduleYaPartido[0]"
   ]
  },
  {
   "cell_type": "code",
   "execution_count": 9,
   "metadata": {},
   "outputs": [],
   "source": [
    "def AddRoundKey(key, round):    \n",
    "    #state ya tendria que estar con el valor del mensaje\n",
    "\n",
    "    # keySchedule es una lista de 15 palabras de 128 bits cada una\n",
    "    keySchedule = list(KeyExpansion(key))\n",
    "\n",
    "    # keyScheduleYaPartido es una lista de 15 listas de 4 palabras de 32 bits cada una, es decir,\n",
    "    # así podemos aplicar el XOR de cada lista de la keyScheduleYaPartida con cada fila del state,\n",
    "    # que ambas tienen 4 elementos\n",
    "\n",
    "    keyScheduleYaPartido = []\n",
    "    for palabra in keySchedule:\n",
    "        keySchedulePartes = [['','','',''],['','','',''],['','','',''],['','','','']]\n",
    "        palabraAux = ba2hex(palabra)\n",
    "        for i in range(0, 16):\n",
    "            aux2 = palabraAux[2*i:2*i+2]\n",
    "            keySchedulePartes[i % 4][i // 4] = aux2 # así, para cada iteracion del for, se llena cada casilla de la matrix 4x4 de manera vertical\n",
    "        keyScheduleYaPartido.append(keySchedulePartes)\n",
    "\n",
    "\n",
    "\n",
    "\n",
    "        '''keySchedulePartes = []\n",
    "        aux = ba2hex(palabra)\n",
    "        for i in range(0, 4):\n",
    "            aux2 = aux[8*i:8*i+8]\n",
    "            keySchedulePartes.append(hex2ba(aux2))\n",
    "        keyScheduleYaPartido.append(keySchedulePartes)'''\n",
    "    \n",
    "    # aplicamos el XOR\n",
    "    for i in range(0, 4):\n",
    "        for j in range(0, 4):\n",
    "            state[i][j] = state[i][j] ^ keyScheduleYaPartido[round][i][j]"
   ]
  },
  {
   "cell_type": "code",
   "execution_count": 10,
   "metadata": {},
   "outputs": [],
   "source": [
    "keySchedule = list(KeyExpansion('603deb1015ca71be2b73aef0857d77811f352c073b6108d72d9810a30914dff4'))\n",
    "\n",
    "# keyScheduleYaPartido es una lista de 15 listas de 4 palabras de 32 bits cada una, es decir,\n",
    "# así podemos aplicar el XOR de cada lista de la keyScheduleYaPartida con cada fila del state,\n",
    "# que ambas tienen 4 elementos\n",
    "\n",
    "keyScheduleYaPartido = []\n",
    "for palabra in keySchedule:\n",
    "    keySchedulePartes = [['','','',''],['','','',''],['','','',''],['','','','']]\n",
    "    palabraAux = ba2hex(palabra)\n",
    "    for i in range(0, 16):\n",
    "        aux2 = palabraAux[2*i:2*i+2]\n",
    "        keySchedulePartes[i % 4][i // 4] = aux2 # así, para cada iteracion del for, se llena cada casilla de la matrix 4x4 de manera vertical\n",
    "    keyScheduleYaPartido.append(keySchedulePartes)"
   ]
  },
  {
   "cell_type": "code",
   "execution_count": 11,
   "metadata": {},
   "outputs": [
    {
     "data": {
      "text/plain": [
       "4"
      ]
     },
     "execution_count": 11,
     "metadata": {},
     "output_type": "execute_result"
    }
   ],
   "source": [
    "len(keyScheduleYaPartido[0*4 + 0])"
   ]
  },
  {
   "cell_type": "code",
   "execution_count": 12,
   "metadata": {},
   "outputs": [
    {
     "data": {
      "text/plain": [
       "64"
      ]
     },
     "execution_count": 12,
     "metadata": {},
     "output_type": "execute_result"
    }
   ],
   "source": [
    "len('603deb1015ca71be2b73aef0857d77811f352c073b6108d72d9810a30914dff4')"
   ]
  },
  {
   "cell_type": "code",
   "execution_count": 13,
   "metadata": {},
   "outputs": [
    {
     "name": "stdout",
     "output_type": "stream",
     "text": [
      "[bitarray('01100000001111011110101100010000000101011100101001110001101111100010101101110011101011101111000010000101011111010111011110000001'), bitarray('00011111001101010010110000000111001110110110000100001000110101110010110110011000000100001010001100001001000101001101111111110100'), bitarray('10011011101000110101010000010001100011100110100100100101101011111010010100011010100010110101111100100000011001111111110011011110'), bitarray('10101000101100001001110000011010100100111101000110010100110011011011111001001001100001000110111010110111010111010101101110011010'), bitarray('11010101100110101110110010111000010110111111001111001001000101111111111011101001010000100100100011011110100011101011111010010110'), bitarray('10110101101010010011001010001010001001100111100010100110010001111001100000110001001000100010100100101111011011000111100110110011'), bitarray('10000001001011001000000110101101110110101101111101001000101110100010010000110110000010101111001011111010101110001011010001100100'), bitarray('10011000110001011011111111001001101111101011110100011001100011100010011010001100001110111010011100001001111000000100001000010100')]\n"
     ]
    }
   ],
   "source": [
    "print(keySchedule[:8])"
   ]
  },
  {
   "cell_type": "code",
   "execution_count": 14,
   "metadata": {},
   "outputs": [],
   "source": [
    "cosa = [['','','',''],['','','',''],['','','',''],['','','','']]"
   ]
  },
  {
   "cell_type": "code",
   "execution_count": 15,
   "metadata": {},
   "outputs": [],
   "source": [
    "cosa[0][1] = 'hola'"
   ]
  },
  {
   "cell_type": "code",
   "execution_count": null,
   "metadata": {},
   "outputs": [],
   "source": []
  },
  {
   "cell_type": "code",
   "execution_count": 16,
   "metadata": {},
   "outputs": [],
   "source": [
    "def AddRoundKeyPrueba(key, round):    \n",
    "    #state ya tendria que estar con el valor del mensaje\n",
    "\n",
    "    # keySchedule es una lista de 15 palabras de 128 bits cada una\n",
    "    keySchedule = list(KeyExpansion(key))\n",
    "\n",
    "    # keyScheduleYaPartido es una lista de 15 listas de 4 palabras de 32 bits cada una, es decir,\n",
    "    # así podemos aplicar el XOR de cada lista de la keyScheduleYaPartida con cada fila del state,\n",
    "    # que ambas tienen 4 elementos\n",
    "    keyScheduleYaPartido = []\n",
    "    for palabra in keySchedule:\n",
    "        keySchedulePartes = [['','','',''],['','','',''],['','','',''],['','','','']]\n",
    "        palabraAux = ba2hex(palabra)\n",
    "        for i in range(0, 16):\n",
    "            aux2 = palabraAux[2*i:2*i+2]\n",
    "            keySchedulePartes[i % 4][i // 4] = aux2 # así, para cada iteracion del for, se llena cada casilla de la matrix 4x4 de manera vertical\n",
    "        keyScheduleYaPartido.append(keySchedulePartes)"
   ]
  },
  {
   "cell_type": "code",
   "execution_count": 17,
   "metadata": {},
   "outputs": [],
   "source": [
    "AddRoundKeyPrueba('603deb1015ca71be2b73aef0857d77811f352c073b6108d72d9810a30914dff4', 0)"
   ]
  },
  {
   "cell_type": "code",
   "execution_count": 18,
   "metadata": {},
   "outputs": [
    {
     "data": {
      "text/plain": [
       "[['60', '15', '2b', '85'],\n",
       " ['3d', 'ca', '73', '7d'],\n",
       " ['eb', '71', 'ae', '77'],\n",
       " ['10', 'be', 'f0', '81']]"
      ]
     },
     "execution_count": 18,
     "metadata": {},
     "output_type": "execute_result"
    }
   ],
   "source": [
    "stateAuxil = keyScheduleYaPartido[0]\n",
    "stateAuxil"
   ]
  },
  {
   "cell_type": "code",
   "execution_count": 19,
   "metadata": {},
   "outputs": [
    {
     "data": {
      "text/plain": [
       "[['60', '15', '2b', '85'],\n",
       " ['ca', '73', '7d', '3d'],\n",
       " ['ae', '77', 'eb', '71'],\n",
       " ['81', '10', 'be', 'f0']]"
      ]
     },
     "execution_count": 19,
     "metadata": {},
     "output_type": "execute_result"
    }
   ],
   "source": [
    "stateAuxil2 = stateAuxil\n",
    "for i in range(0, 4):\n",
    "        stateAuxil2[i] = stateAuxil2[i][i:] + stateAuxil2[i][:i]\n",
    "\n",
    "stateAuxil2\n",
    "\n"
   ]
  },
  {
   "cell_type": "code",
   "execution_count": 20,
   "metadata": {},
   "outputs": [
    {
     "data": {
      "text/plain": [
       "[['60', 'ca', 'ae', '81'],\n",
       " ['15', '73', '77', '10'],\n",
       " ['2b', '7d', 'eb', 'be'],\n",
       " ['85', '3d', '71', 'f0']]"
      ]
     },
     "execution_count": 20,
     "metadata": {},
     "output_type": "execute_result"
    }
   ],
   "source": [
    "def traspuesta(matrix):\n",
    "    E = []\n",
    "    for i in range(0, 4):\n",
    "        E.append([matrix[j][i] for j in range(0, 4)])\n",
    "    return(E)\n",
    "\n",
    "stateAuxil3 = traspuesta(stateAuxil2)\n",
    "stateAuxil3"
   ]
  },
  {
   "cell_type": "code",
   "execution_count": 21,
   "metadata": {},
   "outputs": [
    {
     "name": "stdout",
     "output_type": "stream",
     "text": [
      "04\n",
      "66\n",
      "81\n",
      "e5\n",
      "e0\n",
      "cb\n",
      "19\n",
      "9a\n",
      "48\n",
      "f8\n",
      "d3\n",
      "7a\n",
      "28\n",
      "06\n",
      "26\n",
      "4c\n"
     ]
    },
    {
     "data": {
      "text/plain": [
       "[['04', 'e0', '48', '28'],\n",
       " ['66', 'cb', 'f8', '06'],\n",
       " ['81', '19', 'd3', '26'],\n",
       " ['e5', '9a', '7a', '4c']]"
      ]
     },
     "execution_count": 21,
     "metadata": {},
     "output_type": "execute_result"
    }
   ],
   "source": [
    "# Se calcula la x multiplicacion por el binario\n",
    "def xtime(B):\n",
    "    b = B.copy()\n",
    "    b.append(0) \n",
    "    if b[0]==0:\n",
    "        del(b[0])\n",
    "    else:\n",
    "        b^=bitarray('100011011') # polinomio de reduccion de Rijndael\n",
    "        del(b[0])\n",
    "    return(b)\n",
    "\n",
    "#Esta lista se copia en una variable (c) la cual se multiplica usando la función “xtime()” multiplicaría el primer elemento de la fila con el primer elemento de la columna y así sucesivamente. \n",
    "def multRijndael(fila): #ahora son filas porque esta traspuesta, pero realmente son columnas\n",
    "    aux = []\n",
    "    for i in range(4):\n",
    "        x = ba2hex(xtime(hex2ba(fila[0])) ^ xtime(hex2ba(fila[1])) ^ hex2ba(fila[1]) ^ hex2ba(fila[2]) ^ hex2ba(fila[3]))\n",
    "        print(x)\n",
    "        aux.append(x)\n",
    "        fila.append(fila[0])\n",
    "        del(fila[0])\n",
    "    return (aux)\n",
    "    \n",
    "def mixColumns(mat):\n",
    "    #state = traspuesta(state)   \n",
    "\n",
    "    for i in range(4):\n",
    "        mat[i] = multRijndael(mat[i])\n",
    "    return traspuesta(mat)\n",
    "\n",
    "\n",
    "stateAuxilPrueba = [['d4','bf','5d','30'],['e0','b4','52','ae'],['b8','41','11','f1'],['1e','27','98','e5']]\n",
    "stateAuxilPrueba = mixColumns(stateAuxilPrueba)\n",
    "stateAuxilPrueba"
   ]
  },
  {
   "cell_type": "code",
   "execution_count": 22,
   "metadata": {},
   "outputs": [
    {
     "name": "stdout",
     "output_type": "stream",
     "text": [
      "The number is now  1\n"
     ]
    },
    {
     "name": "stdout",
     "output_type": "stream",
     "text": [
      "The number is now  2\n",
      "The number is now  3\n",
      "3\n"
     ]
    }
   ],
   "source": [
    "import time\n",
    "\n",
    "a = 0\n",
    "\n",
    "def test():\n",
    "    global a\n",
    "    a+= 1\n",
    "    print(\"The number is now \", a)\n",
    "    time.sleep(1)\n",
    "\n",
    "while a<3:\n",
    "    \n",
    "    test()\n",
    "\n",
    "print(a)"
   ]
  },
  {
   "cell_type": "code",
   "execution_count": 24,
   "metadata": {},
   "outputs": [
    {
     "data": {
      "text/plain": [
       "[['60', 'ca', 'ae', '81'],\n",
       " ['15', '73', '77', '10'],\n",
       " ['2b', '7d', 'eb', 'be'],\n",
       " ['85', '3d', '71', 'f0']]"
      ]
     },
     "execution_count": 24,
     "metadata": {},
     "output_type": "execute_result"
    }
   ],
   "source": [
    "stateAuxil3"
   ]
  },
  {
   "cell_type": "code",
   "execution_count": 25,
   "metadata": {},
   "outputs": [
    {
     "data": {
      "text/plain": [
       "[['60', 'ca', 'ae', '81'],\n",
       " ['10', '15', '73', '77'],\n",
       " ['eb', 'be', '2b', '7d'],\n",
       " ['3d', '71', 'f0', '85']]"
      ]
     },
     "execution_count": 25,
     "metadata": {},
     "output_type": "execute_result"
    }
   ],
   "source": [
    "for i in range(0, 4):\n",
    "    stateAuxil3[i] = stateAuxil3[i][-i:] + stateAuxil3[i][:-i]\n",
    "stateAuxil3"
   ]
  },
  {
   "cell_type": "code",
   "execution_count": 1,
   "metadata": {},
   "outputs": [
    {
     "name": "stdout",
     "output_type": "stream",
     "text": [
      "13\n",
      "12\n",
      "11\n",
      "10\n",
      "9\n",
      "8\n",
      "7\n",
      "6\n",
      "5\n",
      "4\n",
      "3\n",
      "2\n",
      "1\n"
     ]
    }
   ],
   "source": [
    "for i in reversed(range(1,14)):\n",
    "    print(i)"
   ]
  },
  {
   "cell_type": "code",
   "execution_count": 1,
   "metadata": {},
   "outputs": [
    {
     "data": {
      "text/plain": [
       "3"
      ]
     },
     "execution_count": 1,
     "metadata": {},
     "output_type": "execute_result"
    }
   ],
   "source": [
    "3%32"
   ]
  },
  {
   "cell_type": "code",
   "execution_count": 5,
   "metadata": {},
   "outputs": [],
   "source": [
    "def padding(mensaje):\n",
    "    m = mensaje + '80'\n",
    "    L = len(m)\n",
    "    r = L % 32\n",
    "    if r != 0:\n",
    "        m += '0' * (32-r)\n",
    "    return(m)"
   ]
  },
  {
   "cell_type": "code",
   "execution_count": 3,
   "metadata": {},
   "outputs": [
    {
     "data": {
      "text/plain": [
       "'223764576523af800000000000000000'"
      ]
     },
     "execution_count": 3,
     "metadata": {},
     "output_type": "execute_result"
    }
   ],
   "source": [
    "padding('223764576523af')"
   ]
  },
  {
   "cell_type": "code",
   "execution_count": 5,
   "metadata": {},
   "outputs": [
    {
     "ename": "ImportError",
     "evalue": "cannot import name 'hex2string' from 'bitarray' (c:\\Users\\andre\\.pyenv\\pyenv-win\\versions\\3.12.0\\Lib\\site-packages\\bitarray\\__init__.py)",
     "output_type": "error",
     "traceback": [
      "\u001b[1;31m---------------------------------------------------------------------------\u001b[0m",
      "\u001b[1;31mImportError\u001b[0m                               Traceback (most recent call last)",
      "\u001b[1;32mc:\\Users\\andre\\Repositories\\AES-Protocolos\\cuaderno.ipynb Cell 29\u001b[0m line \u001b[0;36m1\n\u001b[1;32m----> <a href='vscode-notebook-cell:/c%3A/Users/andre/Repositories/AES-Protocolos/cuaderno.ipynb#X40sZmlsZQ%3D%3D?line=0'>1</a>\u001b[0m \u001b[39mfrom\u001b[39;00m \u001b[39mbitarray\u001b[39;00m \u001b[39mimport\u001b[39;00m hex2string, string2hex\n",
      "\u001b[1;31mImportError\u001b[0m: cannot import name 'hex2string' from 'bitarray' (c:\\Users\\andre\\.pyenv\\pyenv-win\\versions\\3.12.0\\Lib\\site-packages\\bitarray\\__init__.py)"
     ]
    }
   ],
   "source": [
    "from bitarray import hex2string, string2hex"
   ]
  },
  {
   "cell_type": "code",
   "execution_count": 6,
   "metadata": {},
   "outputs": [
    {
     "ename": "AttributeError",
     "evalue": "'str' object has no attribute 'decode'",
     "output_type": "error",
     "traceback": [
      "\u001b[1;31m---------------------------------------------------------------------------\u001b[0m",
      "\u001b[1;31mAttributeError\u001b[0m                            Traceback (most recent call last)",
      "\u001b[1;32mc:\\Users\\andre\\Repositories\\AES-Protocolos\\cuaderno.ipynb Cell 30\u001b[0m line \u001b[0;36m1\n\u001b[1;32m----> <a href='vscode-notebook-cell:/c%3A/Users/andre/Repositories/AES-Protocolos/cuaderno.ipynb#X41sZmlsZQ%3D%3D?line=0'>1</a>\u001b[0m \u001b[39m'\u001b[39;49m\u001b[39m686f6c61800000000000000000000000\u001b[39;49m\u001b[39m'\u001b[39;49m\u001b[39m.\u001b[39;49mdecode(\u001b[39m'\u001b[39m\u001b[39mhex\u001b[39m\u001b[39m'\u001b[39m)\n",
      "\u001b[1;31mAttributeError\u001b[0m: 'str' object has no attribute 'decode'"
     ]
    }
   ],
   "source": [
    "'686f6c61800000000000000000000000'.decode('hex')"
   ]
  },
  {
   "cell_type": "code",
   "execution_count": 9,
   "metadata": {},
   "outputs": [],
   "source": [
    "def strin2hexSimplif(cadena):\n",
    "    return(''.join([hex(ord(letra))[2:] for letra in cadena]))"
   ]
  },
  {
   "cell_type": "code",
   "execution_count": 10,
   "metadata": {},
   "outputs": [
    {
     "data": {
      "text/plain": [
       "'686f6c61'"
      ]
     },
     "execution_count": 10,
     "metadata": {},
     "output_type": "execute_result"
    }
   ],
   "source": [
    "strin2hexSimplif('hola')"
   ]
  },
  {
   "cell_type": "code",
   "execution_count": 5,
   "metadata": {},
   "outputs": [],
   "source": [
    "from bitarray import bitarray\n",
    "\n",
    "def hex2string(h):\n",
    "    H = [h[i:i+2] for i in range(0, len(h), 2)]\n",
    "    L = [int(x, 16) for x in H]\n",
    "    Letras = [chr(n) for n in L]\n",
    "    return(''.join(Letras))"
   ]
  },
  {
   "cell_type": "code",
   "execution_count": 6,
   "metadata": {},
   "outputs": [
    {
     "data": {
      "text/plain": [
       "'hola'"
      ]
     },
     "execution_count": 6,
     "metadata": {},
     "output_type": "execute_result"
    }
   ],
   "source": [
    "hex2string('686f6c61')"
   ]
  },
  {
   "cell_type": "code",
   "execution_count": 1,
   "metadata": {},
   "outputs": [],
   "source": [
    "def msg2blockArray(mensaje):\n",
    "    m = []\n",
    "    for i in range(0, len(mensaje), 32):\n",
    "        m.append(mensaje[i:i+32])\n",
    "    return(m)"
   ]
  },
  {
   "cell_type": "code",
   "execution_count": 6,
   "metadata": {},
   "outputs": [
    {
     "data": {
      "text/plain": [
       "'66778899800000000000000000000000'"
      ]
     },
     "execution_count": 6,
     "metadata": {},
     "output_type": "execute_result"
    }
   ],
   "source": [
    "padding(msg2blockArray('0011223344556677889900112233445566778899')[-1])"
   ]
  },
  {
   "cell_type": "code",
   "execution_count": 3,
   "metadata": {},
   "outputs": [
    {
     "ename": "NameError",
     "evalue": "name 'm' is not defined",
     "output_type": "error",
     "traceback": [
      "\u001b[1;31m---------------------------------------------------------------------------\u001b[0m",
      "\u001b[1;31mNameError\u001b[0m                                 Traceback (most recent call last)",
      "Cell \u001b[1;32mIn[3], line 1\u001b[0m\n\u001b[1;32m----> 1\u001b[0m \u001b[43mm\u001b[49m[\u001b[38;5;241m-\u001b[39m\u001b[38;5;241m1\u001b[39m]\n",
      "\u001b[1;31mNameError\u001b[0m: name 'm' is not defined"
     ]
    }
   ],
   "source": [
    "m[-1]"
   ]
  },
  {
   "cell_type": "code",
   "execution_count": 7,
   "metadata": {},
   "outputs": [
    {
     "data": {
      "text/plain": [
       "'0011223344556677889900112233445580000000000000000000000000000000'"
      ]
     },
     "execution_count": 7,
     "metadata": {},
     "output_type": "execute_result"
    }
   ],
   "source": [
    "padding('00112233445566778899001122334455')"
   ]
  },
  {
   "cell_type": "code",
   "execution_count": null,
   "metadata": {},
   "outputs": [],
   "source": []
  }
 ],
 "metadata": {
  "kernelspec": {
   "display_name": "Python 3 (ipykernel)",
   "language": "python",
   "name": "python3"
  },
  "language_info": {
   "codemirror_mode": {
    "name": "ipython",
    "version": 3
   },
   "file_extension": ".py",
   "mimetype": "text/x-python",
   "name": "python",
   "nbconvert_exporter": "python",
   "pygments_lexer": "ipython3",
   "version": "3.12.0"
  }
 },
 "nbformat": 4,
 "nbformat_minor": 4
}
