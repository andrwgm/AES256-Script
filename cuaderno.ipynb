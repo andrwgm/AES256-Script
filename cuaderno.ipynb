{
 "cells": [
  {
   "cell_type": "code",
   "execution_count": null,
   "metadata": {},
   "outputs": [],
   "source": [
    "#key = '000102030405060708090a0b0c0d0e0f101112131415161718191a1b1c1d1e1f'"
   ]
  },
  {
   "cell_type": "code",
   "execution_count": 30,
   "metadata": {},
   "outputs": [],
   "source": [
    "import bitarray.util\n",
    "from bitarray import bitarray\n",
    "from bitarray.util import hex2ba, ba2hex, ba2int, int2ba\n",
    "\n",
    "# si no me equivoco, el estado es donde se va guardando el cifrado\n",
    "state = [[0 for x in range(4)] for y in range(4)]\n",
    "\n",
    "Rcon = ['1000000', '02000000', '04000000', '08000000',\n",
    "        '10000000', '20000000', '40000000', '80000000',\n",
    "        '1B000000', '36000000', '6C000000', 'D8000000',\n",
    "        'AB000000', '4D000000']\n",
    "Rcon = [hex2ba(x) for x in Rcon]\n",
    "\n",
    "SboxTable = [['63','7c','77','7b','f2','6b','6f','c5','30','01','67','2b','fe','d7','ab','76'],\n",
    "            ['ca','82','c9','7d','fa','59','47','f0','ad','d4','a2','af','9c','a4','72','c0'],\n",
    "            ['b7','fd','93','26','36','3f','f7','cc','34','a5','e5','f1','71','d8','31','15'],\n",
    "            ['04','c7','23','c3','18','96','05','9a','07','12','80','e2','eb','27','b2','75'],\n",
    "            ['09','83','2c','1a','1b','6e','5a','a0','52','3b','d6','b3','29','e3','2f','84'],\n",
    "            ['53','d1','00','ed','20','fc','b1','5b','6a','cb','be','39','4a','4c','58','cf'],\n",
    "            ['d0','ef','aa','fb','43','4d','33','85','45','f9','02','7f','50','3c','9f','a8'],\n",
    "            ['51','a3','40','8f','92','9d','38','f5','bc','b6','da','21','10','ff','f3','d2'],\n",
    "            ['cd','0c','13','ec','5f','97','44','17','c4','a7','7e','3d','64','5d','19','73'],\n",
    "            ['60','81','4f','dc','22','2a','90','88','46','ee','b8','14','de','5e','0b','db'],\n",
    "            ['e0','32','3a','0a','49','06','24','5c','c2','d3','ac','62','91','95','e4','79'],\n",
    "            ['e7','c8','37','6d','8d','d5','4e','a9','6c','56','f4','ea','65','7a','ae','08'],\n",
    "            ['ba','78','25','2e','1c','a6','b4','c6','e8','dd','74','1f','4b','bd','8b','8a'],\n",
    "            ['70','3e','b5','66','48','03','f6','0e','61','35','57','b9','86','c1','1d','9e'],\n",
    "            ['e1','f8','98','11','69','d9','8e','94','9b','1e','87','e9','ce','55','28','df'],\n",
    "            ['8c','a1','89','0d','bf','e6','42','68','41','99','2d','0f','b0','54','bb','16']]\n",
    "\n",
    "#key = hex2ba(key) y su len = 256 en binario y 64 en hex\n",
    "\n",
    "# esta funcion se utiliza para juntar de 4 en 4 palabras como\n",
    "# unicas entradas de un array, es decir, si antes tenias 8 palabras, \n",
    "# ahora tienes dos posiciones de array, con 4 palabras cada una.\n",
    "\n",
    "def agrupar(L, k):\n",
    "    from functools import reduce\n",
    "    assert len(L) % k == 0\n",
    "    N = len(L) // k\n",
    "    G = [L[k*i:k*i+k] for i in range(N)]\n",
    "    return(reduce(lambda x, y: x + y, w) for w in G)\n",
    "\n",
    "\n",
    "# sbox coge un bitarray de 8 bits y le aplica tabla de sustitucion\n",
    "def sbox(b):\n",
    "    x = b[:4]\n",
    "    y = b[4:]\n",
    "    x = ba2int(x)\n",
    "    y = ba2int(y)\n",
    "\n",
    "    val = SboxTable[x][y]\n",
    "    val = hex2ba(val)\n",
    "    return (val)\n",
    "\n",
    "\n",
    "# Sbox coge la palabra de 32 digitos binarios que le proporciona el \n",
    "# hex2ba(word) del return de SubWord y le aplica sbox a cada trozo de 8 bits \n",
    "# de la palabra, devolviendo un bitarray de 32 bits que son los 4 trozos de 8 \n",
    "# pasados por sbox\n",
    "def Sbox(word):\n",
    "    B = bitarray() \n",
    "    for i in range(0,len(word),8):\n",
    "        b = word[i:i+8]\n",
    "        b = sbox(b)\n",
    "        B = B + b\n",
    "    return (B)\n",
    "\n",
    "# RotWord es coge los dos primeros caracteres y les pone al final de la palabra\n",
    "def RotWord(word): # word en hexadecimal\n",
    "    # rotamos los 4 ultimos caracteres de la palabra\n",
    "    return(word[8:]+word[:8])\n",
    "\n",
    "# SubWord is a function that takes a four-byte input word and applies\n",
    "# the S-box (Sec. 5.1.1,Fig. 7) to each of the four bytes to produce an output word\n",
    "def SubWord(word): # word entra en hexadecimal\n",
    "    return Sbox(word) # y retorna el bitarray que salga de Sbox\n",
    "\n",
    "# Nb = 4 Nk = 8 Nr = 14       Nb * (Nr + 1) = 60\n",
    "def KeyExpansion(key): # key en hexadecimal\n",
    "    key = hex2ba(key) # key en binario\n",
    "    w = []\n",
    "    i= 0\n",
    "\n",
    "    # dividimos la clave en 8 palabras de 8 caracteres\n",
    "    while i<8: #Nk\n",
    "        w.append(key[i:i+32]) #cogemos la clave en trozos de 32 bits\n",
    "        i += 1\n",
    "    i = 8 #Nk\n",
    "\n",
    "    # aqui w es una lista de 8 palabras de 32 bits cada una\n",
    "    # en cada iteracion se añade una nueva palabra al final de la lista w\n",
    "    while i<60: # Nb * (Nr + 1)\n",
    "        temp = w[i-1] # temp es un trozo de 8 caracteres\n",
    "        if i % 8 == 0:\n",
    "            temp = SubWord(RotWord(temp)) # a subWord le entran hexadecimales\n",
    "            temp ^= Rcon[i//8]\n",
    "\n",
    "        elif i%8 == 4:\n",
    "            temp = SubWord(temp)\n",
    "\n",
    "        temp = w[i-8]^temp\n",
    "\n",
    "        w.append(temp)\n",
    "\n",
    "        i += 1\n",
    "\n",
    "    return(agrupar(w,4))\n",
    "    #w = ['8hex' 60 palabras]\n",
    "    #w = ['32hex' 15 claves]  #devolver lista (K) con 15 claves de 128 bits (32 hexadecimales)"
   ]
  },
  {
   "cell_type": "code",
   "execution_count": 32,
   "metadata": {},
   "outputs": [
    {
     "name": "stdout",
     "output_type": "stream",
     "text": [
      "<generator object agrupar.<locals>.<genexpr> at 0x000001BE3E054F20>\n"
     ]
    }
   ],
   "source": [
    "KE = KeyExpansion('000102030405060708090a0b0c0d0e0f101112131415161718191a1b1c1d1e1f')\n",
    "print(KE)"
   ]
  },
  {
   "cell_type": "code",
   "execution_count": 15,
   "metadata": {},
   "outputs": [
    {
     "data": {
      "text/plain": [
       "1"
      ]
     },
     "execution_count": 15,
     "metadata": {},
     "output_type": "execute_result"
    }
   ],
   "source": [
    "4 // 3\n"
   ]
  },
  {
   "cell_type": "code",
   "execution_count": null,
   "metadata": {},
   "outputs": [],
   "source": []
  }
 ],
 "metadata": {
  "kernelspec": {
   "display_name": "Python 3",
   "language": "python",
   "name": "python3"
  },
  "language_info": {
   "codemirror_mode": {
    "name": "ipython",
    "version": 3
   },
   "file_extension": ".py",
   "mimetype": "text/x-python",
   "name": "python",
   "nbconvert_exporter": "python",
   "pygments_lexer": "ipython3",
   "version": "3.10.11"
  }
 },
 "nbformat": 4,
 "nbformat_minor": 2
}
